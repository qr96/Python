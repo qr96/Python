{
 "cells": [
  {
   "cell_type": "code",
   "execution_count": 8,
   "metadata": {},
   "outputs": [],
   "source": [
    "import cv2, sys\n",
    "from matplotlib import pyplot as plt\n",
    "import numpy as np\n",
    "\n",
    "imgPath = 'C:\\\\Users\\\\이규한\\\\Documents\\\\PyPractice\\\\Practice\\\\images\\\\sh.jpg'\n",
    "\n",
    "#한글경로 함수\n",
    "def hangulEncode(filePath):\n",
    "    stream = open(filePath.encode(\"utf-8\"),\"rb\")\n",
    "    bytes = bytearray(stream.read())\n",
    "    numpyArr = np.asarray(bytes, dtype=np.uint8)\n",
    "    return numpyArr\n",
    "\n",
    "#사용할 이미지 블러온다.\n",
    "imgPath = hangulEncode(imgPath)\n",
    "image = cv2.imdecode(imgPath, cv2.IMREAD_UNCHANGED)\n",
    "image_gray = cv2.imdecode(imgPath, cv2.IMREAD_GRAYSCALE)\n",
    "\n",
    "#numpy배열 생성\n",
    "height,width = image.shape[:2]\n",
    "img_mask = np.zeros((height,width,1), dtype=np.uint8)\n",
    "\n",
    "#외곽선을 검출한다.\n",
    "blur = cv2.GaussianBlur(image_gray, ksize=(3,3), sigmaX=0)\n",
    "ret, thresh1 = cv2.threshold(blur, 127, 255, cv2.THRESH_BINARY)\n",
    "edged = cv2.Canny(blur, 20, 150)\n",
    "cv2.imshow('Edged', edged)\n",
    "\n",
    "#closed 검출\n",
    "kernel = cv2.getStructuringElement(cv2.MORPH_RECT, (9,9))\n",
    "closed = cv2.morphologyEx(edged, cv2.MORPH_CLOSE, kernel)\n",
    "cv2.imshow('closed', closed)\n",
    "\n",
    "#컨투어\n",
    "contours, _ = cv2.findContours(closed.copy(),cv2.RETR_EXTERNAL, cv2.CHAIN_APPROX_SIMPLE)\n",
    "cv2.drawContours(img_mask, contours, 0, 255, -1)\n",
    "cv2.imshow('img_mask', img_mask)\n",
    "\n",
    "height,width = image.shape[:2]\n",
    "texture_roi = image[0:height,0:width]\n",
    "img_result = cv2.bitwise_and(texture_roi,texture_roi, mask=img_mask)\n",
    "cv2.imshow('img_result', img_result)\n",
    "\n",
    "cv2.waitKey(0)\n",
    "cv2.destroyAllWindows()"
   ]
  },
  {
   "cell_type": "code",
   "execution_count": null,
   "metadata": {},
   "outputs": [],
   "source": []
  },
  {
   "cell_type": "code",
   "execution_count": null,
   "metadata": {},
   "outputs": [],
   "source": []
  }
 ],
 "metadata": {
  "kernelspec": {
   "display_name": "Python 3",
   "language": "python",
   "name": "python3"
  },
  "language_info": {
   "codemirror_mode": {
    "name": "ipython",
    "version": 3
   },
   "file_extension": ".py",
   "mimetype": "text/x-python",
   "name": "python",
   "nbconvert_exporter": "python",
   "pygments_lexer": "ipython3",
   "version": "3.6.4"
  }
 },
 "nbformat": 4,
 "nbformat_minor": 2
}
