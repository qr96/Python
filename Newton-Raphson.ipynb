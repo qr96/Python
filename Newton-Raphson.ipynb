{
 "cells": [
  {
   "cell_type": "code",
   "execution_count": 49,
   "metadata": {
    "scrolled": true
   },
   "outputs": [],
   "source": [
    "import numpy as np\n",
    "\n",
    "def func(x): # f(x) = x^3-x^2-3x-2\n",
    "    return x*x*x-x*x-3*x-2\n",
    "\n",
    "def func_p(x): # f'(x) = 3x^2-2x-3\n",
    "    return 3*x*x-2*x-3\n",
    "\n",
    "def newton_raphson(xr):\n",
    "    it=0\n",
    "    es = 0.00001\n",
    "    maxit =  50\n",
    "    while(1):\n",
    "        xr_old = xr\n",
    "        xr = np.float(xr-func(xr)/func_p(xr))\n",
    "        it+=1\n",
    "        ea=np.float(np.abs((np.float(xr)-np.float(xr_old))/np.float(xr))*100)\n",
    "        if np.int(ea <= es) | np.int(it>= maxit):\n",
    "            break\n",
    "    return xr"
   ]
  },
  {
   "cell_type": "code",
   "execution_count": 50,
   "metadata": {},
   "outputs": [
    {
     "data": {
      "text/plain": [
       "2.511547141694532"
      ]
     },
     "execution_count": 50,
     "metadata": {},
     "output_type": "execute_result"
    }
   ],
   "source": [
    "newton_raphson(4)"
   ]
  },
  {
   "cell_type": "code",
   "execution_count": null,
   "metadata": {},
   "outputs": [],
   "source": []
  }
 ],
 "metadata": {
  "kernelspec": {
   "display_name": "Python 3",
   "language": "python",
   "name": "python3"
  },
  "language_info": {
   "codemirror_mode": {
    "name": "ipython",
    "version": 3
   },
   "file_extension": ".py",
   "mimetype": "text/x-python",
   "name": "python",
   "nbconvert_exporter": "python",
   "pygments_lexer": "ipython3",
   "version": "3.6.4"
  }
 },
 "nbformat": 4,
 "nbformat_minor": 2
}
